{
  "nbformat": 4,
  "nbformat_minor": 0,
  "metadata": {
    "colab": {
      "provenance": [],
      "toc_visible": true,
      "authorship_tag": "ABX9TyOJhDCiNZ9h6i/iMKB8TVN+",
      "include_colab_link": true
    },
    "kernelspec": {
      "name": "python3",
      "display_name": "Python 3"
    },
    "language_info": {
      "name": "python"
    }
  },
  "cells": [
    {
      "cell_type": "markdown",
      "metadata": {
        "id": "view-in-github",
        "colab_type": "text"
      },
      "source": [
        "<a href=\"https://colab.research.google.com/github/eaospina-2032b-cpu/ciencia-datos-2025-b-g1/blob/main/Parcial.ipynb\" target=\"_parent\"><img src=\"https://colab.research.google.com/assets/colab-badge.svg\" alt=\"Open In Colab\"/></a>"
      ]
    },
    {
      "cell_type": "code",
      "execution_count": 41,
      "metadata": {
        "colab": {
          "base_uri": "https://localhost:8080/"
        },
        "id": "wOVH-21O8Rzf",
        "outputId": "a4f11ef2-bd92-47b1-8fd0-4b883522e5b3"
      },
      "outputs": [
        {
          "output_type": "stream",
          "name": "stdout",
          "text": [
            "  Estudiante  Corte Actividad  Parcial  Actividades  Certificación  \\\n",
            "0      Edwin      1      Quiz      4.5          4.6            4.3   \n",
            "1      Edwin      1      Foro      4.0          5.0            3.7   \n",
            "2      Edwin      1    Taller      3.5          2.7            3.8   \n",
            "3      Edwin      2      Quiz      4.7          4.4            3.2   \n",
            "4      Edwin      2      Foro      4.0          3.7            3.1   \n",
            "\n",
            "   Autoevaluación  Coevaluación  Proyecto  \n",
            "0             3.3           2.9       NaN  \n",
            "1             4.7           3.7       NaN  \n",
            "2             3.6           3.2       NaN  \n",
            "3             5.0           3.7       NaN  \n",
            "4             3.1           5.0       NaN  \n"
          ]
        }
      ],
      "source": [
        "import pandas as pd\n",
        "import numpy as np\n",
        "\n",
        "estudiantes = [\"Edwin\", \"Jhuliana\", \"Max\", \"Carlos\", \"Leslie\"]\n",
        "\n",
        "cortes = [1, 2, 3]\n",
        "actividades = [\"Quiz\", \"Foro\", \"Taller\", \"Proyecto\"]\n",
        "\n",
        "data = []\n",
        "\n",
        "for est in estudiantes:\n",
        "    for corte in cortes:\n",
        "\n",
        "        if corte in [1, 2]:\n",
        "            acts = [\"Quiz\", \"Foro\", \"Taller\"]\n",
        "        else:\n",
        "            acts = [\"Proyecto\"]\n",
        "\n",
        "        for act in acts:\n",
        "            parcial = round(np.random.uniform(2.5, 5.0), 1)\n",
        "            actividades_nota = round(np.random.uniform(2.5, 5.0), 1)\n",
        "            certificacion = round(np.random.uniform(2.5, 5.0), 1)\n",
        "            autoeval = round(np.random.uniform(2.5, 5.0), 1)\n",
        "            coeval = round(np.random.uniform(2.5, 5.0), 1)\n",
        "            proyecto = round(np.random.uniform(2.5, 5.0), 1) if corte == 3 else None\n",
        "\n",
        "            fila = [est, corte, act, parcial, actividades_nota, certificacion, autoeval, coeval, proyecto]\n",
        "            data.append(fila)\n",
        "\n",
        "df = pd.DataFrame(data, columns=[\"Estudiante\",\"Corte\",\"Actividad\",\"Parcial\",\"Actividades\",\"Certificación\",\"Autoevaluación\",\"Coevaluación\",\"Proyecto\"])\n",
        "\n",
        "print(df.head())\n",
        "\n"
      ]
    }
  ]
}